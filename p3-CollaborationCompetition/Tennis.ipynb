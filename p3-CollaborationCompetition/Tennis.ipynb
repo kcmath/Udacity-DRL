{
 "cells": [
  {
   "cell_type": "markdown",
   "metadata": {},
   "source": [
    "# Collaboration and Competition\n",
    "\n",
    "---\n",
    "\n",
    "You are welcome to use this coding environment to train your agent for the project.  Follow the instructions below to get started!\n",
    "\n",
    "### 1. Start the Environment\n",
    "\n",
    "Run the next code cell to install a few packages.  This line will take a few minutes to run!"
   ]
  },
  {
   "cell_type": "code",
   "execution_count": null,
   "metadata": {},
   "outputs": [],
   "source": [
    "!pip -q install ./python"
   ]
  },
  {
   "cell_type": "markdown",
   "metadata": {},
   "source": [
    "The environment is already saved in the Workspace and can be accessed at the file path provided below. "
   ]
  },
  {
   "cell_type": "code",
   "execution_count": null,
   "metadata": {},
   "outputs": [],
   "source": [
    "from unityagents import UnityEnvironment\n",
    "import numpy as np\n",
    "\n",
    "env = UnityEnvironment(file_name=\"/data/Tennis_Linux_NoVis/Tennis\")"
   ]
  },
  {
   "cell_type": "markdown",
   "metadata": {},
   "source": [
    "Environments contain **_brains_** which are responsible for deciding the actions of their associated agents. Here we check for the first brain available, and set it as the default brain we will be controlling from Python."
   ]
  },
  {
   "cell_type": "code",
   "execution_count": null,
   "metadata": {},
   "outputs": [],
   "source": [
    "# get the default brain\n",
    "brain_name = env.brain_names[0]\n",
    "brain = env.brains[brain_name]"
   ]
  },
  {
   "cell_type": "markdown",
   "metadata": {},
   "source": [
    "### 2. Examine the State and Action Spaces\n",
    "\n",
    "Run the code cell below to print some information about the environment."
   ]
  },
  {
   "cell_type": "code",
   "execution_count": null,
   "metadata": {},
   "outputs": [],
   "source": [
    "# reset the environment\n",
    "env_info = env.reset(train_mode=True)[brain_name]\n",
    "\n",
    "# number of agents \n",
    "num_agents = len(env_info.agents)\n",
    "print('Number of agents:', num_agents)\n",
    "\n",
    "# size of each action\n",
    "action_size = brain.vector_action_space_size\n",
    "print('Size of each action:', action_size)\n",
    "\n",
    "# examine the state space \n",
    "states = env_info.vector_observations\n",
    "state_size = states.shape[1]\n",
    "print('There are {} agents. Each observes a state with length: {}'.format(states.shape[0], state_size))\n",
    "print('The state for the first agent looks like:', states[0])"
   ]
  },
  {
   "cell_type": "markdown",
   "metadata": {},
   "source": [
    "### 3. Take Random Actions in the Environment\n",
    "\n",
    "In the next code cell, you will learn how to use the Python API to control the agent and receive feedback from the environment.\n",
    "\n",
    "Note that **in this coding environment, you will not be able to watch the agents while they are training**, and you should set `train_mode=True` to restart the environment."
   ]
  },
  {
   "cell_type": "code",
   "execution_count": null,
   "metadata": {},
   "outputs": [],
   "source": [
    "for i in range(5):                                         # play game for 5 episodes\n",
    "    env_info = env.reset(train_mode=False)[brain_name]     # reset the environment    \n",
    "    states = env_info.vector_observations                  # get the current state (for each agent)\n",
    "    scores = np.zeros(num_agents)                          # initialize the score (for each agent)\n",
    "    while True:\n",
    "        actions = np.random.randn(num_agents, action_size) # select an action (for each agent)\n",
    "        actions = np.clip(actions, -1, 1)                  # all actions between -1 and 1\n",
    "        env_info = env.step(actions)[brain_name]           # send all actions to tne environment\n",
    "        next_states = env_info.vector_observations         # get next state (for each agent)\n",
    "        rewards = env_info.rewards                         # get reward (for each agent)\n",
    "        dones = env_info.local_done                        # see if episode finished\n",
    "        scores += env_info.rewards                         # update the score (for each agent)\n",
    "        states = next_states                               # roll over states to next time step\n",
    "        if np.any(dones):                                  # exit loop if episode finished\n",
    "            break\n",
    "    print('Total score (averaged over agents) this episode: {}'.format(np.mean(scores)))"
   ]
  },
  {
   "cell_type": "markdown",
   "metadata": {},
   "source": [
    "When finished, you can close the environment."
   ]
  },
  {
   "cell_type": "code",
   "execution_count": null,
   "metadata": {},
   "outputs": [],
   "source": [
    "env.close()"
   ]
  },
  {
   "cell_type": "markdown",
   "metadata": {},
   "source": [
    "### 4. It's Your Turn!\n",
    "\n",
    "Now it's your turn to train your own agent to solve the environment!  A few **important notes**:\n",
    "- When training the environment, set `train_mode=True`, so that the line for resetting the environment looks like the following:\n",
    "```python\n",
    "env_info = env.reset(train_mode=True)[brain_name]\n",
    "```\n",
    "- To structure your work, you're welcome to work directly in this Jupyter notebook, or you might like to start over with a new file!  You can see the list of files in the workspace by clicking on **_Jupyter_** in the top left corner of the notebook.\n",
    "- In this coding environment, you will not be able to watch the agents while they are training.  However, **_after training the agents_**, you can download the saved model weights to watch the agents on your own machine! "
   ]
  },
  {
   "cell_type": "code",
   "execution_count": 1,
   "metadata": {},
   "outputs": [
    {
     "name": "stdout",
     "output_type": "stream",
     "text": [
      "\u001b[31mtensorflow 1.7.1 has requirement numpy>=1.13.3, but you'll have numpy 1.12.1 which is incompatible.\u001b[0m\r\n",
      "\u001b[31mipython 6.5.0 has requirement prompt-toolkit<2.0.0,>=1.0.15, but you'll have prompt-toolkit 3.0.5 which is incompatible.\u001b[0m\r\n"
     ]
    },
    {
     "name": "stderr",
     "output_type": "stream",
     "text": [
      "INFO:unityagents:\n",
      "'Academy' started successfully!\n",
      "Unity Academy name: Academy\n",
      "        Number of Brains: 1\n",
      "        Number of External Brains : 1\n",
      "        Lesson number : 0\n",
      "        Reset Parameters :\n",
      "\t\t\n",
      "Unity brain name: TennisBrain\n",
      "        Number of Visual Observations (per agent): 0\n",
      "        Vector Observation space type: continuous\n",
      "        Vector Observation space size (per agent): 8\n",
      "        Number of stacked Vector Observation: 3\n",
      "        Vector Action space type: continuous\n",
      "        Vector Action space size (per agent): 2\n",
      "        Vector Action descriptions: , \n"
     ]
    },
    {
     "name": "stdout",
     "output_type": "stream",
     "text": [
      "Number of agents: 2\n",
      "Size of each action: 2\n",
      "There are 2 agents. Each observes a state with length: 24\n",
      "The state for the first agent looks like: [ 0.          0.          0.          0.          0.          0.          0.\n",
      "  0.          0.          0.          0.          0.          0.          0.\n",
      "  0.          0.         -6.65278625 -1.5        -0.          0.\n",
      "  6.83172083  6.         -0.          0.        ]\n"
     ]
    }
   ],
   "source": [
    "!pip -q install ./python\n",
    "import random\n",
    "import numpy as np\n",
    "import torch\n",
    "from unityagents import UnityEnvironment\n",
    "from collections import deque\n",
    "import matplotlib.pyplot as plt\n",
    "\n",
    "env = UnityEnvironment(file_name=\"/data/Tennis_Linux_NoVis/Tennis\")\n",
    "\n",
    "# get the default brain\n",
    "brain_name = env.brain_names[0]\n",
    "brain = env.brains[brain_name]\n",
    "# reset the environment\n",
    "env_info = env.reset(train_mode=True)[brain_name]\n",
    "\n",
    "# number of agents \n",
    "num_agents = len(env_info.agents)\n",
    "print('Number of agents:', num_agents)\n",
    "\n",
    "# size of each action\n",
    "action_size = brain.vector_action_space_size\n",
    "print('Size of each action:', action_size)\n",
    "\n",
    "# examine the state space \n",
    "states = env_info.vector_observations\n",
    "state_size = states.shape[1]\n",
    "print('There are {} agents. Each observes a state with length: {}'.format(states.shape[0], state_size))\n",
    "print('The state for the first agent looks like:', states[0])"
   ]
  },
  {
   "cell_type": "markdown",
   "metadata": {},
   "source": [
    "###  Multi-Agent Deep Deterministic Policy Gradients"
   ]
  },
  {
   "cell_type": "code",
   "execution_count": 2,
   "metadata": {},
   "outputs": [
    {
     "name": "stdout",
     "output_type": "stream",
     "text": [
      "Episode: 10, MaxScore: 0.10(0.10/0.09), \tAverage Score: 0.0100\n",
      "Episode: 20, MaxScore: 0.09(0.09/0.00), \tAverage Score: 0.0095\n",
      "Episode: 30, MaxScore: 0.00(0.00/-0.01), \tAverage Score: 0.0093\n",
      "Episode: 40, MaxScore: 0.00(0.00/-0.01), \tAverage Score: 0.0070\n",
      "Episode: 50, MaxScore: 0.00(-0.01/0.00), \tAverage Score: 0.0056\n",
      "Episode: 60, MaxScore: 0.00(0.00/-0.01), \tAverage Score: 0.0047\n",
      "Episode: 70, MaxScore: 0.00(-0.01/0.00), \tAverage Score: 0.0054\n",
      "Episode: 80, MaxScore: 0.00(-0.01/0.00), \tAverage Score: 0.0048\n",
      "Episode: 90, MaxScore: 0.00(0.00/-0.01), \tAverage Score: 0.0042\n",
      "Episode: 100, MaxScore: 0.00(0.00/-0.01), \tAverage Score: 0.0048\n",
      "Episode: 110, MaxScore: 0.00(-0.01/0.00), \tAverage Score: 0.0048\n",
      "Episode: 120, MaxScore: 0.00(0.00/-0.01), \tAverage Score: 0.0049\n",
      "Episode: 130, MaxScore: 0.00(0.00/-0.01), \tAverage Score: 0.0040\n",
      "Episode: 140, MaxScore: 0.00(-0.01/0.00), \tAverage Score: 0.0040\n",
      "Episode: 150, MaxScore: 0.00(0.00/-0.01), \tAverage Score: 0.0040\n",
      "Episode: 160, MaxScore: 0.00(0.00/-0.01), \tAverage Score: 0.0040\n",
      "Episode: 170, MaxScore: 0.00(-0.01/0.00), \tAverage Score: 0.0030\n",
      "Episode: 180, MaxScore: 0.00(-0.01/0.00), \tAverage Score: 0.0030\n",
      "Episode: 190, MaxScore: 0.00(0.00/-0.01), \tAverage Score: 0.0030\n",
      "Episode: 200, MaxScore: 0.00(-0.01/0.00), \tAverage Score: 0.0020\n",
      "Episode: 210, MaxScore: 0.10(0.10/-0.01), \tAverage Score: 0.0039\n",
      "Episode: 220, MaxScore: 0.00(0.00/-0.01), \tAverage Score: 0.0038\n",
      "Episode: 230, MaxScore: 0.10(0.10/-0.01), \tAverage Score: 0.0076\n",
      "Episode: 240, MaxScore: 0.00(-0.01/0.00), \tAverage Score: 0.0076\n",
      "Episode: 250, MaxScore: 0.00(-0.01/0.00), \tAverage Score: 0.0086\n",
      "Episode: 260, MaxScore: 0.00(-0.01/0.00), \tAverage Score: 0.0116\n",
      "Episode: 270, MaxScore: 0.00(-0.01/0.00), \tAverage Score: 0.0155\n",
      "Episode: 280, MaxScore: 0.10(0.10/-0.01), \tAverage Score: 0.0194\n",
      "Episode: 290, MaxScore: 0.10(0.10/-0.01), \tAverage Score: 0.0214\n",
      "Episode: 300, MaxScore: 0.10(0.10/-0.01), \tAverage Score: 0.0291\n",
      "Episode: 310, MaxScore: 0.09(0.00/0.09), \tAverage Score: 0.0338\n",
      "Episode: 320, MaxScore: 0.10(0.10/-0.01), \tAverage Score: 0.0418\n",
      "Episode: 330, MaxScore: 0.10(0.10/0.09), \tAverage Score: 0.0456\n",
      "Episode: 340, MaxScore: 0.10(0.09/0.10), \tAverage Score: 0.0506\n",
      "Episode: 350, MaxScore: 0.10(0.10/-0.01), \tAverage Score: 0.0564\n",
      "Episode: 360, MaxScore: 0.10(0.10/-0.01), \tAverage Score: 0.0612\n",
      "Episode: 370, MaxScore: 0.10(0.10/-0.01), \tAverage Score: 0.0663\n",
      "Episode: 380, MaxScore: 0.09(0.00/0.09), \tAverage Score: 0.0702\n",
      "Episode: 390, MaxScore: 0.00(-0.01/0.00), \tAverage Score: 0.0732\n",
      "Episode: 400, MaxScore: 0.00(0.00/-0.01), \tAverage Score: 0.0713\n",
      "Episode: 410, MaxScore: 0.00(-0.01/0.00), \tAverage Score: 0.0667\n",
      "Episode: 420, MaxScore: 0.10(0.10/0.09), \tAverage Score: 0.0598\n",
      "Episode: 430, MaxScore: 0.09(0.00/0.09), \tAverage Score: 0.0611\n",
      "Episode: 440, MaxScore: 0.00(-0.01/0.00), \tAverage Score: 0.0609\n",
      "Episode: 450, MaxScore: 0.10(0.10/-0.01), \tAverage Score: 0.0628\n",
      "Episode: 460, MaxScore: 0.00(0.00/-0.01), \tAverage Score: 0.0628\n",
      "Episode: 470, MaxScore: 0.10(-0.01/0.10), \tAverage Score: 0.0637\n",
      "Episode: 480, MaxScore: 0.10(0.10/0.09), \tAverage Score: 0.0637\n",
      "Episode: 490, MaxScore: 0.00(-0.01/0.00), \tAverage Score: 0.0655\n",
      "Episode: 500, MaxScore: 0.10(0.10/-0.01), \tAverage Score: 0.0685\n",
      "Episode: 510, MaxScore: 0.10(0.10/-0.01), \tAverage Score: 0.0755\n",
      "Episode: 520, MaxScore: 0.10(0.10/-0.01), \tAverage Score: 0.0834\n",
      "Episode: 530, MaxScore: 0.10(0.10/0.09), \tAverage Score: 0.0825\n",
      "Episode: 540, MaxScore: 0.10(0.10/0.09), \tAverage Score: 0.0877\n",
      "Episode: 550, MaxScore: 0.10(0.10/-0.01), \tAverage Score: 0.0869\n",
      "Episode: 560, MaxScore: 0.09(0.00/0.09), \tAverage Score: 0.0850\n",
      "Episode: 570, MaxScore: 0.10(-0.01/0.10), \tAverage Score: 0.0818\n",
      "Episode: 580, MaxScore: 0.09(0.00/0.09), \tAverage Score: 0.0829\n",
      "Episode: 590, MaxScore: 0.09(0.00/0.09), \tAverage Score: 0.0817\n",
      "Episode: 600, MaxScore: 0.10(-0.01/0.10), \tAverage Score: 0.0816\n",
      "Episode: 610, MaxScore: 0.00(-0.01/0.00), \tAverage Score: 0.0765\n",
      "Episode: 620, MaxScore: 0.09(0.00/0.09), \tAverage Score: 0.0724\n",
      "Episode: 630, MaxScore: 0.00(-0.01/0.00), \tAverage Score: 0.0694\n",
      "Episode: 640, MaxScore: 0.20(0.09/0.20), \tAverage Score: 0.0684\n",
      "Episode: 650, MaxScore: 0.00(-0.01/0.00), \tAverage Score: 0.0693\n",
      "Episode: 660, MaxScore: 0.00(0.00/-0.01), \tAverage Score: 0.0683\n",
      "Episode: 670, MaxScore: 0.10(-0.01/0.10), \tAverage Score: 0.0684\n",
      "Episode: 680, MaxScore: 0.00(-0.01/0.00), \tAverage Score: 0.0683\n",
      "Episode: 690, MaxScore: 0.10(-0.01/0.10), \tAverage Score: 0.0705\n",
      "Episode: 700, MaxScore: 0.00(0.00/-0.01), \tAverage Score: 0.0688\n",
      "Episode: 710, MaxScore: 0.10(-0.01/0.10), \tAverage Score: 0.0718\n",
      "Episode: 720, MaxScore: 0.10(-0.01/0.10), \tAverage Score: 0.0730\n",
      "Episode: 730, MaxScore: 0.00(-0.01/0.00), \tAverage Score: 0.0730\n",
      "Episode: 740, MaxScore: 0.00(0.00/-0.01), \tAverage Score: 0.0709\n",
      "Episode: 750, MaxScore: 0.10(-0.01/0.10), \tAverage Score: 0.0710\n",
      "Episode: 760, MaxScore: 0.10(-0.01/0.10), \tAverage Score: 0.0789\n",
      "Episode: 770, MaxScore: 0.00(-0.01/0.00), \tAverage Score: 0.0781\n",
      "Episode: 780, MaxScore: 0.00(-0.01/0.00), \tAverage Score: 0.0752\n",
      "Episode: 790, MaxScore: 0.10(-0.01/0.10), \tAverage Score: 0.0732\n",
      "Episode: 800, MaxScore: 0.00(-0.01/0.00), \tAverage Score: 0.0772\n",
      "Episode: 810, MaxScore: 0.10(-0.01/0.10), \tAverage Score: 0.0752\n",
      "Episode: 820, MaxScore: 0.10(0.10/-0.01), \tAverage Score: 0.0762\n",
      "Episode: 830, MaxScore: 0.10(-0.01/0.10), \tAverage Score: 0.0812\n",
      "Episode: 840, MaxScore: 0.10(0.10/0.09), \tAverage Score: 0.0862\n",
      "Episode: 850, MaxScore: 0.00(-0.01/0.00), \tAverage Score: 0.0853\n",
      "Episode: 860, MaxScore: 0.00(-0.01/0.00), \tAverage Score: 0.0815\n",
      "Episode: 870, MaxScore: 0.20(0.20/0.19), \tAverage Score: 0.0835\n",
      "Episode: 880, MaxScore: 0.10(-0.01/0.10), \tAverage Score: 0.0866\n",
      "Episode: 890, MaxScore: 0.09(0.00/0.09), \tAverage Score: 0.0917\n",
      "Episode: 900, MaxScore: 0.20(0.09/0.20), \tAverage Score: 0.0956\n",
      "Episode: 910, MaxScore: 0.10(0.10/-0.01), \tAverage Score: 0.1025\n",
      "Episode: 920, MaxScore: 0.10(0.09/0.10), \tAverage Score: 0.1114\n",
      "Episode: 930, MaxScore: 0.09(0.00/0.09), \tAverage Score: 0.1142\n",
      "Episode: 940, MaxScore: 0.19(0.10/0.19), \tAverage Score: 0.1181\n",
      "Episode: 950, MaxScore: 0.10(-0.01/0.10), \tAverage Score: 0.1194\n",
      "Episode: 960, MaxScore: 0.09(0.00/0.09), \tAverage Score: 0.1260\n",
      "Episode: 970, MaxScore: 0.20(0.20/0.09), \tAverage Score: 0.1310\n",
      "Episode: 980, MaxScore: 0.30(0.30/0.29), \tAverage Score: 0.1370\n",
      "Episode: 990, MaxScore: 0.10(0.10/0.09), \tAverage Score: 0.1448\n",
      "Episode: 1000, MaxScore: 0.30(0.30/0.19), \tAverage Score: 0.1509\n",
      "Episode: 1010, MaxScore: 0.20(0.20/0.19), \tAverage Score: 0.1551\n",
      "Episode: 1020, MaxScore: 0.10(0.10/0.09), \tAverage Score: 0.1541\n",
      "Episode: 1030, MaxScore: 0.00(-0.01/0.00), \tAverage Score: 0.1553\n",
      "Episode: 1040, MaxScore: 0.10(0.10/-0.01), \tAverage Score: 0.1484\n",
      "Episode: 1050, MaxScore: 0.20(0.19/0.20), \tAverage Score: 0.1581\n",
      "Episode: 1060, MaxScore: 0.10(-0.01/0.10), \tAverage Score: 0.1575\n",
      "Episode: 1070, MaxScore: 0.40(0.29/0.40), \tAverage Score: 0.1695\n",
      "Episode: 1080, MaxScore: 0.30(0.30/0.29), \tAverage Score: 0.1694\n",
      "Episode: 1090, MaxScore: 0.30(0.29/0.30), \tAverage Score: 0.1695\n",
      "Episode: 1100, MaxScore: 0.19(0.10/0.19), \tAverage Score: 0.1652\n",
      "Episode: 1110, MaxScore: 0.10(0.10/-0.01), \tAverage Score: 0.1638\n",
      "Episode: 1120, MaxScore: 0.20(0.09/0.20), \tAverage Score: 0.1678\n",
      "Episode: 1130, MaxScore: 0.10(0.09/0.10), \tAverage Score: 0.1687\n",
      "Episode: 1140, MaxScore: 0.10(0.10/-0.01), \tAverage Score: 0.1846\n",
      "Episode: 1150, MaxScore: 0.20(0.09/0.20), \tAverage Score: 0.1845\n",
      "Episode: 1160, MaxScore: 1.70(1.59/1.70), \tAverage Score: 0.2073\n",
      "Episode: 1170, MaxScore: 1.70(1.69/1.70), \tAverage Score: 0.2522\n",
      "Episode: 1180, MaxScore: 0.90(0.79/0.90), \tAverage Score: 0.2962\n",
      "Episode: 1190, MaxScore: 2.60(2.60/2.50), \tAverage Score: 0.3704\n",
      "Episode: 1200, MaxScore: 0.10(0.09/0.10), \tAverage Score: 0.4035\n",
      "\n",
      "Environment solved in 1109 episodes!\tAverage Score: 0.51\n"
     ]
    }
   ],
   "source": [
    "def maddpg(multiagent, n_episodes=2000, noise_start=1.0,noise_decay=0.995,noise_end=0.001,freq=1):\n",
    "    scores = []\n",
    "    agents_scores = []\n",
    "    average_scores = []   \n",
    "    scores_window = deque(maxlen=100)\n",
    "    nu = noise_start\n",
    "    for i_episode in range(1, n_episodes+1):\n",
    "        env_info = env.reset(train_mode=True)[env.brain_names[0]]\n",
    "        states = env_info.vector_observations\n",
    "        scores_episodes = np.zeros(num_agents)\n",
    "        multiagent.reset()\n",
    "        while True:\n",
    "            actions = multiagent.act(states,add_noise=True,nu=nu)\n",
    "            env_info = env.step(actions)[env.brain_names[0]]\n",
    "            next_states = env_info.vector_observations\n",
    "            rewards = env_info.rewards\n",
    "            dones = env_info.local_done\n",
    "            multiagent.step(states, actions, rewards, next_states, dones,freq)\n",
    "            states = next_states\n",
    "            scores_episodes += rewards            \n",
    "            if np.any(dones):\n",
    "                break\n",
    "        nu = max(noise_end, noise_decay*nu) # decrease epsilon        \n",
    "        agents_scores.append(scores_episodes)\n",
    "        scores.append(np.max(scores_episodes)) \n",
    "        scores_window.append(np.max(scores_episodes))\n",
    "        average_scores.append(np.mean(scores_window))\n",
    "        if i_episode % 10 == 0:\n",
    "            print('Episode: {}, MaxScore: {:.2f}({:.2f}/{:.2f}), \\tAverage Score: {:.4f}'.format(i_episode, np.max(scores_episodes),scores_episodes[0],scores_episodes[1],  np.mean(scores_window)))         \n",
    "        if (len(scores_window) == 100 and np.mean(scores_window) >= 0.5):\n",
    "            print('\\nEnvironment solved in {:d} episodes!\\tAverage Score: {:.2f}'.format(i_episode-100, np.mean(scores_window)))\n",
    "            for i in range(num_agents):\n",
    "                torch.save(multiagent.agents[i].actor_local.state_dict(), 'MADDPG_actor_'+str(i)+'.pth')\n",
    "                torch.save(multiagent.agents[i].critic_local.state_dict(), 'MADDPG_critic_'+str(i)+'.pth')  \n",
    "            break\n",
    "    return agents_scores, average_scores\n",
    "\n",
    "from multiagent import Multi_Agent\n",
    "agent_maddpg = Multi_Agent(num_agents=num_agents, state_size=state_size, action_size=action_size, random_seed=23,TD3=False)\n",
    "ddpg_scores_agents, ddpg_scores_average = maddpg(agent_maddpg,n_episodes=3000, noise_start=1.0,noise_decay=0.995,noise_end=0.001)"
   ]
  },
  {
   "cell_type": "code",
   "execution_count": 3,
   "metadata": {},
   "outputs": [
    {
     "data": {
      "image/png": "[encoded data removed]",
      "text/plain": [
       "<matplotlib.figure.Figure at 0x7f0ce185af28>"
      ]
     },
     "metadata": {
      "needs_background": "light"
     },
     "output_type": "display_data"
    }
   ],
   "source": [
    "fig = plt.figure()\n",
    "ax = fig.add_subplot(111)\n",
    "ddpg_scores_agents=np.array(ddpg_scores_agents)\n",
    "plt.plot(np.arange(1, len(ddpg_scores_agents.T[0])+1), ddpg_scores_agents.T[0], label='agent#1')\n",
    "plt.plot(np.arange(1, len(ddpg_scores_agents.T[1])+1), ddpg_scores_agents.T[1], label='agent#2')\n",
    "plt.plot(np.arange(1, len(ddpg_scores_average)+1), ddpg_scores_average, label='Average')\n",
    "ax.legend()\n",
    "plt.ylabel('Score')\n",
    "plt.xlabel('Episode #')\n",
    "plt.show()"
   ]
  },
  {
   "cell_type": "markdown",
   "metadata": {},
   "source": [
    "###  Multi-Agent Twin Delayed Deep Deterministic Policy Gradients"
   ]
  },
  {
   "cell_type": "code",
   "execution_count": 4,
   "metadata": {},
   "outputs": [
    {
     "name": "stdout",
     "output_type": "stream",
     "text": [
      "Episode: 10, MaxScore: 0.00(-0.01/0.00), \tAverage Score: 0.0100\n",
      "Episode: 20, MaxScore: 0.00(0.00/-0.01), \tAverage Score: 0.0100\n",
      "Episode: 30, MaxScore: 0.00(-0.01/0.00), \tAverage Score: 0.0130\n",
      "Episode: 40, MaxScore: 0.00(-0.01/0.00), \tAverage Score: 0.0098\n",
      "Episode: 50, MaxScore: 0.00(-0.01/0.00), \tAverage Score: 0.0078\n",
      "Episode: 60, MaxScore: 0.00(-0.01/0.00), \tAverage Score: 0.0065\n",
      "Episode: 70, MaxScore: 0.00(-0.01/0.00), \tAverage Score: 0.0084\n",
      "Episode: 80, MaxScore: 0.00(0.00/-0.01), \tAverage Score: 0.0074\n",
      "Episode: 90, MaxScore: 0.00(0.00/-0.01), \tAverage Score: 0.0099\n",
      "Episode: 100, MaxScore: 0.00(-0.01/0.00), \tAverage Score: 0.0089\n",
      "Episode: 110, MaxScore: 0.00(0.00/-0.01), \tAverage Score: 0.0089\n",
      "Episode: 120, MaxScore: 0.00(-0.01/0.00), \tAverage Score: 0.0089\n",
      "Episode: 130, MaxScore: 0.00(0.00/-0.01), \tAverage Score: 0.0080\n",
      "Episode: 140, MaxScore: 0.00(-0.01/0.00), \tAverage Score: 0.0080\n",
      "Episode: 150, MaxScore: 0.00(-0.01/0.00), \tAverage Score: 0.0080\n",
      "Episode: 160, MaxScore: 0.00(0.00/-0.01), \tAverage Score: 0.0080\n",
      "Episode: 170, MaxScore: 0.00(0.00/-0.01), \tAverage Score: 0.0080\n",
      "Episode: 180, MaxScore: 0.00(-0.01/0.00), \tAverage Score: 0.0090\n",
      "Episode: 190, MaxScore: 0.00(-0.01/0.00), \tAverage Score: 0.0060\n",
      "Episode: 200, MaxScore: 0.10(0.10/-0.01), \tAverage Score: 0.0080\n",
      "Episode: 210, MaxScore: 0.00(0.00/-0.01), \tAverage Score: 0.0100\n",
      "Episode: 220, MaxScore: 0.00(0.00/-0.01), \tAverage Score: 0.0120\n",
      "Episode: 230, MaxScore: 0.10(0.10/-0.01), \tAverage Score: 0.0160\n",
      "Episode: 240, MaxScore: 0.00(0.00/-0.01), \tAverage Score: 0.0180\n",
      "Episode: 250, MaxScore: 0.00(0.00/-0.01), \tAverage Score: 0.0210\n",
      "Episode: 260, MaxScore: 0.00(0.00/-0.01), \tAverage Score: 0.0240\n",
      "Episode: 270, MaxScore: 0.09(0.00/0.09), \tAverage Score: 0.0248\n",
      "Episode: 280, MaxScore: 0.10(0.10/-0.01), \tAverage Score: 0.0285\n",
      "Episode: 290, MaxScore: 0.00(0.00/-0.01), \tAverage Score: 0.0331\n",
      "Episode: 300, MaxScore: 0.10(0.10/-0.01), \tAverage Score: 0.0358\n",
      "Episode: 310, MaxScore: 0.09(0.00/0.09), \tAverage Score: 0.0415\n",
      "Episode: 320, MaxScore: 0.10(0.10/-0.01), \tAverage Score: 0.0473\n",
      "Episode: 330, MaxScore: 0.00(0.00/-0.01), \tAverage Score: 0.0463\n",
      "Episode: 340, MaxScore: 0.10(0.10/-0.01), \tAverage Score: 0.0482\n",
      "Episode: 350, MaxScore: 0.10(0.10/0.09), \tAverage Score: 0.0491\n",
      "Episode: 360, MaxScore: 0.00(0.00/-0.01), \tAverage Score: 0.0519\n",
      "Episode: 370, MaxScore: 0.00(0.00/-0.01), \tAverage Score: 0.0550\n",
      "Episode: 380, MaxScore: 0.10(0.10/-0.01), \tAverage Score: 0.0582\n",
      "Episode: 390, MaxScore: 0.00(0.00/-0.01), \tAverage Score: 0.0585\n",
      "Episode: 400, MaxScore: 0.10(0.10/-0.01), \tAverage Score: 0.0578\n",
      "Episode: 410, MaxScore: 0.00(-0.01/0.00), \tAverage Score: 0.0521\n",
      "Episode: 420, MaxScore: 0.09(0.00/0.09), \tAverage Score: 0.0482\n",
      "Episode: 430, MaxScore: 0.00(0.00/-0.01), \tAverage Score: 0.0490\n",
      "Episode: 440, MaxScore: 0.00(0.00/-0.01), \tAverage Score: 0.0491\n",
      "Episode: 450, MaxScore: 0.00(-0.01/0.00), \tAverage Score: 0.0500\n",
      "Episode: 460, MaxScore: 0.10(-0.01/0.10), \tAverage Score: 0.0462\n",
      "Episode: 470, MaxScore: 0.00(-0.01/0.00), \tAverage Score: 0.0433\n",
      "Episode: 480, MaxScore: 0.00(-0.01/0.00), \tAverage Score: 0.0394\n",
      "Episode: 490, MaxScore: 0.10(-0.01/0.10), \tAverage Score: 0.0415\n",
      "Episode: 500, MaxScore: 0.00(0.00/-0.01), \tAverage Score: 0.0415\n",
      "Episode: 510, MaxScore: 0.00(0.00/-0.01), \tAverage Score: 0.0435\n",
      "Episode: 520, MaxScore: 0.10(0.09/0.10), \tAverage Score: 0.0436\n",
      "Episode: 530, MaxScore: 0.10(0.09/0.10), \tAverage Score: 0.0448\n",
      "Episode: 540, MaxScore: 0.10(0.10/-0.01), \tAverage Score: 0.0498\n",
      "Episode: 550, MaxScore: 0.20(0.20/0.09), \tAverage Score: 0.0520\n",
      "Episode: 560, MaxScore: 0.10(0.09/0.10), \tAverage Score: 0.0540\n",
      "Episode: 570, MaxScore: 0.00(0.00/-0.01), \tAverage Score: 0.0560\n",
      "Episode: 580, MaxScore: 0.00(0.00/-0.01), \tAverage Score: 0.0560\n",
      "Episode: 590, MaxScore: 0.10(0.10/-0.01), \tAverage Score: 0.0520\n",
      "Episode: 600, MaxScore: 0.00(0.00/-0.01), \tAverage Score: 0.0530\n",
      "Episode: 610, MaxScore: 0.10(-0.01/0.10), \tAverage Score: 0.0560\n",
      "Episode: 620, MaxScore: 0.10(0.10/-0.01), \tAverage Score: 0.0647\n",
      "Episode: 630, MaxScore: 0.00(-0.01/0.00), \tAverage Score: 0.0624\n",
      "Episode: 640, MaxScore: 0.20(0.20/0.19), \tAverage Score: 0.0632\n",
      "Episode: 650, MaxScore: 0.10(0.10/-0.01), \tAverage Score: 0.0600\n",
      "Episode: 660, MaxScore: 0.09(0.00/0.09), \tAverage Score: 0.0617\n",
      "Episode: 670, MaxScore: 0.10(0.10/-0.01), \tAverage Score: 0.0655\n",
      "Episode: 680, MaxScore: 0.00(0.00/-0.01), \tAverage Score: 0.0674\n",
      "Episode: 690, MaxScore: 0.00(0.00/-0.01), \tAverage Score: 0.0694\n",
      "Episode: 700, MaxScore: 0.09(0.09/0.00), \tAverage Score: 0.0751\n",
      "Episode: 710, MaxScore: 0.10(0.10/0.09), \tAverage Score: 0.0779\n",
      "Episode: 720, MaxScore: 0.20(0.20/0.09), \tAverage Score: 0.0738\n",
      "Episode: 730, MaxScore: 0.20(0.09/0.20), \tAverage Score: 0.0779\n",
      "Episode: 740, MaxScore: 0.10(0.09/0.10), \tAverage Score: 0.0779\n",
      "Episode: 750, MaxScore: 0.00(0.00/-0.01), \tAverage Score: 0.0809\n",
      "Episode: 760, MaxScore: 0.10(0.10/-0.01), \tAverage Score: 0.0811\n",
      "Episode: 770, MaxScore: 0.09(0.00/0.09), \tAverage Score: 0.0850\n",
      "Episode: 780, MaxScore: 0.00(0.00/-0.01), \tAverage Score: 0.0878\n",
      "Episode: 790, MaxScore: 0.09(0.00/0.09), \tAverage Score: 0.0933\n",
      "Episode: 800, MaxScore: 0.10(0.10/-0.01), \tAverage Score: 0.0933\n",
      "Episode: 810, MaxScore: 0.09(0.00/0.09), \tAverage Score: 0.0920\n",
      "Episode: 820, MaxScore: 0.09(0.00/0.09), \tAverage Score: 0.0908\n",
      "Episode: 830, MaxScore: 0.10(0.09/0.10), \tAverage Score: 0.0917\n",
      "Episode: 840, MaxScore: 0.10(0.09/0.10), \tAverage Score: 0.0899\n",
      "Episode: 850, MaxScore: 0.10(0.10/-0.01), \tAverage Score: 0.0928\n",
      "Episode: 860, MaxScore: 0.09(0.00/0.09), \tAverage Score: 0.0946\n",
      "Episode: 870, MaxScore: 0.00(0.00/-0.01), \tAverage Score: 0.0905\n",
      "Episode: 880, MaxScore: 0.09(0.00/0.09), \tAverage Score: 0.0893\n",
      "Episode: 890, MaxScore: 0.09(0.00/0.09), \tAverage Score: 0.0893\n",
      "Episode: 900, MaxScore: 0.10(0.10/-0.01), \tAverage Score: 0.0873\n",
      "Episode: 910, MaxScore: 0.20(0.20/0.19), \tAverage Score: 0.0895\n",
      "Episode: 920, MaxScore: 0.09(0.00/0.09), \tAverage Score: 0.0918\n",
      "Episode: 930, MaxScore: 0.10(0.09/0.10), \tAverage Score: 0.0949\n",
      "Episode: 940, MaxScore: 0.09(0.00/0.09), \tAverage Score: 0.0997\n",
      "Episode: 950, MaxScore: 0.10(0.09/0.10), \tAverage Score: 0.1006\n",
      "Episode: 960, MaxScore: 0.10(-0.01/0.10), \tAverage Score: 0.1036\n",
      "Episode: 970, MaxScore: 0.00(0.00/-0.01), \tAverage Score: 0.1046\n",
      "Episode: 980, MaxScore: 0.10(0.10/0.09), \tAverage Score: 0.1100\n",
      "Episode: 990, MaxScore: 0.10(-0.01/0.10), \tAverage Score: 0.1149\n",
      "Episode: 1000, MaxScore: 0.10(0.10/-0.01), \tAverage Score: 0.1180\n",
      "Episode: 1010, MaxScore: 0.10(0.10/0.09), \tAverage Score: 0.1173\n",
      "Episode: 1020, MaxScore: 0.10(0.10/0.09), \tAverage Score: 0.1245\n",
      "Episode: 1030, MaxScore: 0.10(0.10/0.09), \tAverage Score: 0.1237\n",
      "Episode: 1040, MaxScore: 0.20(0.20/0.19), \tAverage Score: 0.1239\n",
      "Episode: 1050, MaxScore: 0.10(-0.01/0.10), \tAverage Score: 0.1252\n",
      "Episode: 1060, MaxScore: 0.30(0.30/0.19), \tAverage Score: 0.1345\n",
      "Episode: 1070, MaxScore: 0.20(0.20/0.19), \tAverage Score: 0.1429\n",
      "Episode: 1080, MaxScore: 0.20(0.20/0.19), \tAverage Score: 0.1480\n",
      "Episode: 1090, MaxScore: 0.09(0.00/0.09), \tAverage Score: 0.1465\n",
      "Episode: 1100, MaxScore: 0.10(0.10/-0.01), \tAverage Score: 0.1474\n",
      "Episode: 1110, MaxScore: 0.09(0.00/0.09), \tAverage Score: 0.1503\n",
      "Episode: 1120, MaxScore: 0.10(0.10/0.09), \tAverage Score: 0.1422\n",
      "Episode: 1130, MaxScore: 0.20(0.20/0.09), \tAverage Score: 0.1420\n",
      "Episode: 1140, MaxScore: 0.10(0.10/-0.01), \tAverage Score: 0.1428\n",
      "Episode: 1150, MaxScore: 0.20(0.20/0.19), \tAverage Score: 0.1468\n",
      "Episode: 1160, MaxScore: 0.10(0.09/0.10), \tAverage Score: 0.1447\n",
      "Episode: 1170, MaxScore: 0.10(0.10/-0.01), \tAverage Score: 0.1465\n",
      "Episode: 1180, MaxScore: 0.20(0.09/0.20), \tAverage Score: 0.1412\n",
      "Episode: 1190, MaxScore: 0.09(0.00/0.09), \tAverage Score: 0.1418\n",
      "Episode: 1200, MaxScore: 0.10(0.10/-0.01), \tAverage Score: 0.1479\n",
      "Episode: 1210, MaxScore: 0.10(0.10/0.09), \tAverage Score: 0.1500\n",
      "Episode: 1220, MaxScore: 0.09(0.00/0.09), \tAverage Score: 0.1671\n",
      "Episode: 1230, MaxScore: 0.10(-0.01/0.10), \tAverage Score: 0.1681\n",
      "Episode: 1240, MaxScore: 0.10(-0.01/0.10), \tAverage Score: 0.1700\n",
      "Episode: 1250, MaxScore: 0.09(0.00/0.09), \tAverage Score: 0.1696\n",
      "Episode: 1260, MaxScore: 0.10(0.09/0.10), \tAverage Score: 0.1726\n",
      "Episode: 1270, MaxScore: 0.09(0.00/0.09), \tAverage Score: 0.1775\n",
      "Episode: 1280, MaxScore: 0.10(0.10/-0.01), \tAverage Score: 0.1793\n",
      "Episode: 1290, MaxScore: 0.10(-0.01/0.10), \tAverage Score: 0.1904\n",
      "Episode: 1300, MaxScore: 0.20(0.20/0.09), \tAverage Score: 0.1965\n",
      "Episode: 1310, MaxScore: 0.70(0.70/0.59), \tAverage Score: 0.1964\n",
      "Episode: 1320, MaxScore: 0.10(0.10/0.09), \tAverage Score: 0.1884\n",
      "Episode: 1330, MaxScore: 1.30(1.30/1.29), \tAverage Score: 0.2125\n",
      "Episode: 1340, MaxScore: 0.40(0.40/0.29), \tAverage Score: 0.2508\n",
      "Episode: 1350, MaxScore: 1.00(1.00/0.89), \tAverage Score: 0.2782\n",
      "Episode: 1360, MaxScore: 0.19(0.10/0.19), \tAverage Score: 0.2860\n",
      "Episode: 1370, MaxScore: 0.10(0.10/0.09), \tAverage Score: 0.3072\n",
      "Episode: 1380, MaxScore: 0.70(0.59/0.70), \tAverage Score: 0.3246\n",
      "Episode: 1390, MaxScore: 1.60(1.49/1.60), \tAverage Score: 0.3410\n",
      "Episode: 1400, MaxScore: 0.10(0.09/0.10), \tAverage Score: 0.3780\n",
      "\n",
      "Environment solved in 1309 episodes!\tAverage Score: 0.51\n"
     ]
    }
   ],
   "source": [
    "def matd3(multiagent, n_episodes=2000, noise_start=1.0,noise_decay=0.995,noise_end=0.001,freq=2):\n",
    "    scores = []\n",
    "    agents_scores = []\n",
    "    average_scores = []\n",
    "    scores_window = deque(maxlen=100) \n",
    "    nu = noise_start\n",
    "    for i_episode in range(1, n_episodes+1):\n",
    "        env_info = env.reset(train_mode=True)[env.brain_names[0]]\n",
    "        states = env_info.vector_observations\n",
    "        scores_episodes = np.zeros(num_agents)\n",
    "        multiagent.reset()\n",
    "        t=0\n",
    "        while True:\n",
    "            t+=1\n",
    "            actions = multiagent.act(states,add_noise=True,nu=nu)\n",
    "            env_info = env.step(actions)[env.brain_names[0]]\n",
    "            next_states = env_info.vector_observations\n",
    "            rewards = env_info.rewards\n",
    "            dones = env_info.local_done\n",
    "            multiagent.step(states, actions, rewards, next_states, dones,t%freq)\n",
    "            states = next_states\n",
    "            scores_episodes += rewards            \n",
    "            if np.any(dones):\n",
    "                break\n",
    "        nu = max(noise_end, noise_decay*nu) # decrease epsilon        \n",
    "        agents_scores.append(scores_episodes)\n",
    "        scores.append(np.max(scores_episodes)) \n",
    "        scores_window.append(np.max(scores_episodes))\n",
    "        average_scores.append(np.mean(scores_window))\n",
    "        if i_episode % 10 == 0:\n",
    "            print('Episode: {}, MaxScore: {:.2f}({:.2f}/{:.2f}), \\tAverage Score: {:.4f}'.format(i_episode, np.max(scores_episodes),scores_episodes[0],scores_episodes[1],  np.mean(scores_window)))         \n",
    "        if (len(scores_window) == 100 and np.mean(scores_window) >= 0.5):\n",
    "            print('\\nEnvironment solved in {:d} episodes!\\tAverage Score: {:.2f}'.format(i_episode-100, np.mean(scores_window)))\n",
    "            for i in range(num_agents):                    \n",
    "                torch.save(multiagent.agents[i].actor_local.state_dict(), 'MATD3_actor_'+str(i)+'.pth')\n",
    "                torch.save(multiagent.agents[i].critic_local_1.state_dict(), 'MATD3_critic1_'+str(i)+'.pth')\n",
    "                torch.save(multiagent.agents[i].critic_local_2.state_dict(), 'MATD3_critic2_'+str(i)+'.pth')            \n",
    "            break\n",
    "    return agents_scores, average_scores\n",
    "\n",
    "from multiagent import Multi_Agent\n",
    "agent_matd3 = Multi_Agent(num_agents=num_agents, state_size=state_size, action_size=action_size, random_seed=23, TD3=True)\n",
    "td3_scores_agents, td3_scores_average = matd3(agent_matd3,n_episodes=3000, noise_start=1.0,noise_decay=0.995,noise_end=0.001,freq=2)"
   ]
  },
  {
   "cell_type": "code",
   "execution_count": 5,
   "metadata": {},
   "outputs": [
    {
     "data": {
      "image/png": "[encoded data removed]",
      "text/plain": [
       "<matplotlib.figure.Figure at 0x7f0ce0608320>"
      ]
     },
     "metadata": {
      "needs_background": "light"
     },
     "output_type": "display_data"
    }
   ],
   "source": [
    "fig = plt.figure()\n",
    "ax = fig.add_subplot(111)\n",
    "td3_scores_agents=np.array(td3_scores_agents)\n",
    "plt.plot(np.arange(1, len(td3_scores_agents.T[0])+1), td3_scores_agents.T[0], label='agent#1')\n",
    "plt.plot(np.arange(1, len(td3_scores_agents.T[1])+1), td3_scores_agents.T[1], label='agent#2')\n",
    "plt.plot(np.arange(1, len(td3_scores_average)+1), td3_scores_average, label='Average')\n",
    "ax.legend()\n",
    "plt.ylabel('Score')\n",
    "plt.xlabel('Episode #')\n",
    "plt.show()"
   ]
  },
  {
   "cell_type": "markdown",
   "metadata": {},
   "source": [
    "### Close"
   ]
  },
  {
   "cell_type": "code",
   "execution_count": 6,
   "metadata": {},
   "outputs": [],
   "source": [
    "env.close()"
   ]
  }
 ],
 "metadata": {
  "kernelspec": {
   "display_name": "Python 3",
   "language": "python",
   "name": "python3"
  },
  "language_info": {
   "codemirror_mode": {
    "name": "ipython",
    "version": 3
   },
   "file_extension": ".py",
   "mimetype": "text/x-python",
   "name": "python",
   "nbconvert_exporter": "python",
   "pygments_lexer": "ipython3",
   "version": "3.6.3"
  }
 },
 "nbformat": 4,
 "nbformat_minor": 2
}
